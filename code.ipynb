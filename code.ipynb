{
 "cells": [
  {
   "cell_type": "code",
   "execution_count": null,
   "id": "a157c363-f1b9-4faa-9ce8-eb623d37085e",
   "metadata": {},
   "outputs": [
    {
     "name": "stdout",
     "output_type": "stream",
     "text": [
      "\n",
      "Menu:\n",
      "1. Text-to-Speech\n",
      "2. Speech-to-Text\n",
      "3. Exit\n"
     ]
    },
    {
     "name": "stdin",
     "output_type": "stream",
     "text": [
      "Enter your choice:  1\n"
     ]
    },
    {
     "name": "stdout",
     "output_type": "stream",
     "text": [
      "\n",
      "Available Languages:\n",
      "1. Hindi\n",
      "2. Punjabi\n",
      "3. Bengali\n",
      "4. Gujarati\n",
      "5. Tamil\n",
      "6. Telugu\n",
      "7. Malayalam\n",
      "8. Kannada\n",
      "9. Marathi\n",
      "10. Urdu\n"
     ]
    },
    {
     "name": "stdin",
     "output_type": "stream",
     "text": [
      "Choose a language by number:  1\n",
      "Enter text to convert to speech in Hindi:  मैं आपका स्वागत करता हूँ। आपका दिन शुभ हो और आपकी सेहत अच्छी होनी चाहिए। मैं आपके लिए कुछ कर सकता हूँ, कृपया मुझे बताएं कि मैं आपकी कैसे मदद कर सकता हूँ।\n"
     ]
    },
    {
     "name": "stdout",
     "output_type": "stream",
     "text": [
      "\n",
      "Menu:\n",
      "1. Text-to-Speech\n",
      "2. Speech-to-Text\n",
      "3. Exit\n"
     ]
    },
    {
     "name": "stdin",
     "output_type": "stream",
     "text": [
      "Enter your choice:  2\n"
     ]
    },
    {
     "name": "stdout",
     "output_type": "stream",
     "text": [
      "\n",
      "Available Languages:\n",
      "1. Hindi\n",
      "2. Punjabi\n",
      "3. Bengali\n",
      "4. Gujarati\n",
      "5. Tamil\n",
      "6. Telugu\n",
      "7. Malayalam\n",
      "8. Kannada\n",
      "9. Marathi\n",
      "10. Urdu\n"
     ]
    },
    {
     "name": "stdin",
     "output_type": "stream",
     "text": [
      "Choose a language by number:  1\n"
     ]
    },
    {
     "name": "stdout",
     "output_type": "stream",
     "text": [
      "Listening... Speak in hi-IN\n",
      "Processing...\n",
      "Recognized text: आप कैसे हो\n",
      "\n",
      "Menu:\n",
      "1. Text-to-Speech\n",
      "2. Speech-to-Text\n",
      "3. Exit\n"
     ]
    },
    {
     "name": "stdin",
     "output_type": "stream",
     "text": [
      "Enter your choice:  1\n"
     ]
    },
    {
     "name": "stdout",
     "output_type": "stream",
     "text": [
      "\n",
      "Available Languages:\n",
      "1. Hindi\n",
      "2. Punjabi\n",
      "3. Bengali\n",
      "4. Gujarati\n",
      "5. Tamil\n",
      "6. Telugu\n",
      "7. Malayalam\n",
      "8. Kannada\n",
      "9. Marathi\n",
      "10. Urdu\n"
     ]
    },
    {
     "name": "stdin",
     "output_type": "stream",
     "text": [
      "Choose a language by number:  1\n",
      "Enter text to convert to speech in Hindi:  hey how are you\n"
     ]
    },
    {
     "name": "stdout",
     "output_type": "stream",
     "text": [
      "\n",
      "Menu:\n",
      "1. Text-to-Speech\n",
      "2. Speech-to-Text\n",
      "3. Exit\n"
     ]
    }
   ],
   "source": [
    "\n",
    "from gtts import gTTS\n",
    "import os\n",
    "import subprocess\n",
    "import platform\n",
    "import speech_recognition as sr\n",
    "def play_audio(filename):\n",
    "    if platform.system() == \"Windows\":\n",
    "        os.system(f'start {filename}')\n",
    "    elif platform.system() == \"Linux\":\n",
    "        subprocess.call([\"xdg-open\", filename])\n",
    "    elif platform.system() == \"Darwin\":  # macOS\n",
    "        subprocess.call([\"open\", filename])\n",
    "\n",
    "\n",
    "def text_to_speech(text, lang):\n",
    "    try:\n",
    "        tts = gTTS(text=text, lang=lang, slow=False)\n",
    "        filename = \"output.mp3\"\n",
    "        tts.save(filename)\n",
    "        play_audio(filename)\n",
    "    except Exception as e:\n",
    "        print(f\"Error in Text-to-Speech: {e}\")\n",
    "def speech_to_text(lang):\n",
    "    recognizer = sr.Recognizer()\n",
    "    attempts = 3\n",
    "    \n",
    "    with sr.Microphone() as source:\n",
    "        recognizer.adjust_for_ambient_noise(source)\n",
    "        print(f\"Listening... Speak in {lang}\")\n",
    "        try:\n",
    "            audio = recognizer.listen(source, timeout=10)\n",
    "            print(\"Processing...\")\n",
    "            text = recognizer.recognize_google(audio, language=lang)\n",
    "            print(f\"Recognized text: {text}\")\n",
    "            return text\n",
    "        except sr.UnknownValueError:\n",
    "            print(\"Sorry, could not understand the audio.\")\n",
    "        except sr.RequestError as e:\n",
    "            print(f\"Request error: {e}\")\n",
    "        except Exception as ex:\n",
    "            print(f\"Unexpected error: {ex}\")\n",
    "def indian_language_menu():\n",
    "    lang_codes = {\n",
    "        \"Hindi\": \"hi\",\n",
    "        \"Punjabi\": \"pa\",\n",
    "        \"Bengali\": \"bn\",\n",
    "        \"Gujarati\": \"gu\",\n",
    "        \"Tamil\": \"ta\",\n",
    "        \"Telugu\": \"te\",\n",
    "        \"Malayalam\": \"ml\",\n",
    "        \"Kannada\": \"kn\",\n",
    "        \"Marathi\": \"mr\",\n",
    "        \"Urdu\": \"ur\"\n",
    "    }\n",
    "    print(\"\\nAvailable Languages:\")\n",
    "    for idx, (lang, code) in enumerate(lang_codes.items(), start=1):\n",
    "        print(f\"{idx}. {lang}\")\n",
    "    choice = int(input(\"Choose a language by number: \"))\n",
    "    lang_name = list(lang_codes.keys())[choice - 1]\n",
    "    lang_code = lang_codes[lang_name]\n",
    "    return lang_name, lang_code\n",
    "def main():\n",
    "     \n",
    "    while True:\n",
    "        print(\"\\nMenu:\")\n",
    "        print(\"1. Text-to-Speech\")\n",
    "        print(\"2. Speech-to-Text\")\n",
    "        print(\"3. Exit\")\n",
    "        choice = input(\"Enter your choice: \")\n",
    "        if choice == '1':\n",
    "            lang_name, lang_code = indian_language_menu()\n",
    "            text = input(f\"Enter text to convert to speech in {lang_name}: \")\n",
    "            text_to_speech(text, lang=lang_code)\n",
    "        elif choice == '2':\n",
    "            lang_name, lang_code = indian_language_menu()\n",
    "            speech_to_text(lang=f\"{lang_code}-IN\")\n",
    "        elif choice == '3':\n",
    "            print(\"Exiting program.\")\n",
    "            break\n",
    "        else:\n",
    "            print(\"Invalid choice. Please try again.\")\n",
    "if __name__ == \"__main__\":\n",
    "    main()\n",
    "    \n"
   ]
  },
  {
   "cell_type": "code",
   "execution_count": null,
   "id": "0735c41e-710f-4e25-b072-5f9649c23afe",
   "metadata": {},
   "outputs": [],
   "source": [
    " "
   ]
  },
  {
   "cell_type": "code",
   "execution_count": null,
   "id": "dcdb8f69-9cab-4bcb-ab3e-51718c6512aa",
   "metadata": {},
   "outputs": [],
   "source": [
    " "
   ]
  },
  {
   "cell_type": "code",
   "execution_count": null,
   "id": "dcbfaeb7-34ba-4fe2-8a94-15ea4f49976a",
   "metadata": {},
   "outputs": [],
   "source": []
  },
  {
   "cell_type": "code",
   "execution_count": null,
   "id": "e239e084-65a6-4aaa-8b97-e74aa06dbab8",
   "metadata": {},
   "outputs": [],
   "source": []
  },
  {
   "cell_type": "code",
   "execution_count": null,
   "id": "75bebed4-10c1-4786-958b-40651a417d6d",
   "metadata": {},
   "outputs": [],
   "source": []
  }
 ],
 "metadata": {
  "kernelspec": {
   "display_name": "Python 3 (ipykernel)",
   "language": "python",
   "name": "python3"
  },
  "language_info": {
   "codemirror_mode": {
    "name": "ipython",
    "version": 3
   },
   "file_extension": ".py",
   "mimetype": "text/x-python",
   "name": "python",
   "nbconvert_exporter": "python",
   "pygments_lexer": "ipython3",
   "version": "3.12.7"
  }
 },
 "nbformat": 4,
 "nbformat_minor": 5
}
